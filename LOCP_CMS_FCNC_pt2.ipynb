{
 "cells": [
  {
   "cell_type": "markdown",
   "id": "d089df95",
   "metadata": {},
   "source": [
    "<h1 align='center'>Final assignment of \"Laboratory of Computational Physics\"</h1>\n",
    "<img align='right' src='https://www.unidformazione.com/wp-content/uploads/2018/04/unipd-universita-di-padova.png' alt='Drawing' style='width:400px;'/>\n",
    "\n",
    "\n",
    "<h2 align='left'>Search for flavor-changing neutral currents <br>in $t\\bar{t}$ processes in multilepton final states in <br> proton-proton collisions with the CMS detector</h2>\n",
    "\n",
    "\n",
    "<h3 align='left'>University of Padua - Physics of Data</h3>\n",
    "<h4 align='left'>Dott. Alberto Zucchetta, Prof. Marco Zanetti</h4>\n",
    "\n",
    "**Name** | **ID number** | **mail**@studenti.unipd.it\n",
    ":-:|:-:|-:\n",
    "Chiara Maccani | 2027591 | chiara.maccani\n",
    "Samuele Piccinelli | 2027650 | samuele.piccinelli\n",
    "Tommaso Stentella | 2027586 | tommaso.stentella\n",
    "Cristina Venturini | 2022461 | cristina.venturini.5"
   ]
  },
  {
   "cell_type": "markdown",
   "id": "c6646972",
   "metadata": {},
   "source": [
    "<div class=\"alert-success\">\n",
    "<h2 align='center'>Extraction of the limit on the branching ratio</h2>\n",
    "</div>"
   ]
  },
  {
   "cell_type": "markdown",
   "id": "dc83fa72",
   "metadata": {},
   "source": [
    "<a id='index'></a>\n",
    "### Index\n",
    "\n",
    "#### 1. [Input variables](#1)\n",
    "#### 2. [Dataset setup](#2)\n",
    "#### 3. [Declare data loaders](#3)\n",
    "#### 4. [Model selection and comparison](#4)\n",
    "#### 5. [BDT training](#5)\n",
    "#### 6. [Evaluation of the classifier](#6)\n",
    "#### 7. [Statistical analysis](#7)\n",
    "#### 8. [Final results](#8)"
   ]
  },
  {
   "cell_type": "code",
   "execution_count": 1,
   "id": "7cbec99f",
   "metadata": {},
   "outputs": [
    {
     "name": "stdout",
     "output_type": "stream",
     "text": [
      "Welcome to JupyROOT 6.24/00\n"
     ]
    }
   ],
   "source": [
    "# - import libraries and useful dependencies\n",
    "\n",
    "import ROOT\n",
    "from ROOT import TMVA\n",
    "import uproot\n",
    "import os\n",
    "import numpy as np\n",
    "import pandas as pd\n",
    "\n",
    "import matplotlib.pyplot as plt\n",
    "\n",
    "plt.rc('axes', **{'grid':False,'titlesize':'large','labelsize':'large','unicode_minus':False})\n",
    "plt.rc('legend',fontsize=16)\n",
    "plt.rc('xtick', labelsize=16)\n",
    "plt.rc('ytick', labelsize=16)\n",
    "\n",
    "import seaborn as sns"
   ]
  },
  {
   "cell_type": "markdown",
   "id": "c1246fa8",
   "metadata": {},
   "source": [
    "<a id='1'></a>\n",
    "[Index](#index)\n",
    "### 1. Input variables"
   ]
  },
  {
   "cell_type": "markdown",
   "id": "8e43b183",
   "metadata": {},
   "source": [
    "We first load the dataset from the snapshot with the relevant features in `uproot`. The set of input variables considered for the discriminant presented in the tables below with the relative description for the **di-** and **tri-lepton category** respectively.\n",
    "\n",
    "Variable | Definition\n",
    ":-:|:-:|\n",
    "$$\\eta_{max}$$ | max. absolute value of the pseudo-rapidity of the 2 leptons\n",
    "$$\\eta_{1}$$ | absolute value of the pseudo-rapidity of the lepton with tag 1\n",
    "$$m^{inv}$$ | invariant mass of the leptons\n",
    "$$\\Delta R_{hl/J}$$ | angular separation between the highest $p^t$ lepton direction and the axis of the nearest jet in the ($\\eta$,$\\phi$) plane\n",
    "$$\\Delta R_{ll/J}$$ | angular separation between the lowest $p^t$ lepton direction and the axis of the nearest jet in the ($\\eta$,$\\phi$) plane\n",
    "$$\\Delta R_{lep}$$ | angular separation between the 2 leptons\n",
    "$$\\Delta\\phi_{MET/0}$$ | phase difference between missing transverse energy (MET) and lepton with 0 tag\n",
    "$$\\Delta\\phi_{MET/1}$$ | phase difference between MET and lepton with 1 tag\n",
    "\n",
    "Variable | Definition\n",
    ":-:|:-:|\n",
    "$$m^{inv}_{0/1}$$ | invariant mass between lepton with tag 0 and lepton with tag 1\n",
    "$$m^{inv}_{0/2}$$ | invariant mass between lepton with tag 0 and lepton with tag 2\n",
    "$$m^{inv}_{1/2}$$ | invariant mass between lepton with tag 1 and lepton with tag 2\n",
    "$$\\Delta R_{1/J}$$ | angular separation between the lepton with tag 1 direction and the axis of the nearest jet in the ($\\eta$,$\\phi$) plane\n",
    "$$\\Delta R_{0/bJ}$$ | angular separation between the lepton with tag 0 direction and the axis of the nearest b-tagged jet in the ($\\eta$,$\\phi$) plane\n",
    "$$\\Delta R_{0/1}$$ | angular separation between the lepton with tag 0 direction and the lepton with tag 1 direction in the ($\\eta$,$\\phi$) plane\n",
    "$$\\Delta R_{0/2}$$ | angular separation between the lepton with tag 0 direction and the lepton with tag 2 direction in the ($\\eta$,$\\phi$) plane\n",
    "$$\\eta_{1}$$ | absolute value of the pseudo-rapidity of the lepton with tag 1\n",
    "$$\\eta_{2}$$ | absolute value of the pseudo-rapidity of the lepton with tag 2\n",
    "$$\\Delta\\phi_{MET/0}$$ | phase difference between missing transverse energy (MET) and lepton with 0 tag\n",
    "$$\\Delta\\phi_{MET/1}$$ | phase difference between missing transverse energy (MET) and lepton with 1 tag\n",
    "$$\\Delta\\phi_{MET/2}$$ | phase difference between missing transverse energy (MET) and lepton with 2 tag\n",
    "\n",
    "The set of input variables presented in this section has been constructed and optimized based on the results showed by [M. Aaboud et al.](https://journals.aps.org/prd/abstract/10.1103/PhysRevD.98.032002) whereas for this second stage a more data-driven approach has been preferred.\n",
    "\n",
    "We perform a multi-variate analysis by means of the [Toolkit for Multivariate Data Analysis](https://root.cern.ch/download/doc/tmva/TMVAUsersGuide.pdf) (TMVA), which provides a ROOT-integrated framework for the processing and parallel evaluation of many different multivariate classification techniques. The classification is done in terms of two event categories, e.g. signal and background. A method referred to as **Gradient Boosted Decision Trees** (GBDT) is exploited in this study.\n",
    "\n",
    "The input variables are chosen to have a significant discriminating power - i.e. a visible discrepancy in the histograms between signal and background. To quantify this one could have used the **separation value** defined as\n",
    "$$\\begin{equation}\n",
    "    \\langle s^2 \\rangle = \\frac{1}{2} \\int \\frac{[p_s(y)-p_b(y)]^2}{p_s(y)+p_b(y)} dy\n",
    "\\end{equation}\n",
    "$$\n",
    "where $p_s(y)$ and $p_b(y)$ are the signal and background PDFs of the classifier $y$. The separation is $0$ ($1$) for identical (non-overlapping) signal and background shapes. However, this variable ranking is later superseded by the ranking provided by the classifier. In fact, TMVA offers convenient preprocessing possibilities for the data prior to feeding them into the classifier. Auxiliary information is provided such as the correlations between the input variables, their separation power and ranking, and efficiency versus background rejection curves for all trained classifiers. These criteria allow the user to choose the optimal classifier for the given problem.\n",
    "\n",
    "A preliminary ranking of the input variables is provided and their linear correlation coefficients are displayed. It is worth noting that the effects of a low-discriminating-power input variable on the analysis of BDTs methods go from a small performance gain to no gain at all - allowing a more relaxed choice."
   ]
  },
  {
   "cell_type": "code",
   "execution_count": 2,
   "id": "9f91b3c4",
   "metadata": {},
   "outputs": [],
   "source": [
    "dirOutPath = '/data/Skim/'\n",
    "\n",
    "listDir = os.listdir(dirOutPath)"
   ]
  },
  {
   "cell_type": "code",
   "execution_count": 3,
   "id": "20566929",
   "metadata": {},
   "outputs": [],
   "source": [
    "SignalFlat = [0]*4\n",
    "MCFlat = [0]*4\n",
    "\n",
    "for i in range(1,5):\n",
    "    SignalFlat[i-1] = uproot.open(dirOutPath + 'SignalFlat{}.root:Events'.format(i)).arrays(library='pd')\n",
    "    MCFlat[i-1] = uproot.concatenate(dirOutPath + 'MC*{}.root:Events'.format(i), allow_missing=True, library='pd')\n",
    "    \n",
    "    SignalFlat[i-1]['label'] = 'signal'\n",
    "    MCFlat[i-1]['label'] = 'bkg'\n",
    "    \n",
    "diLepton = pd.concat((SignalFlat[0], SignalFlat[1]))\n",
    "triLepton = pd.concat((SignalFlat[2], SignalFlat[3]))\n",
    "\n",
    "diLepton = pd.concat((diLepton, MCFlat[0], MCFlat[1]))\n",
    "triLepton = pd.concat((triLepton, MCFlat[2], MCFlat[3]))"
   ]
  },
  {
   "cell_type": "code",
   "execution_count": 4,
   "id": "6de31df5",
   "metadata": {},
   "outputs": [],
   "source": [
    "# drop weights\n",
    "diLepton = diLepton.drop(columns=['eventWeightLumi'])\n",
    "triLepton = triLepton.drop(columns=['eventWeightLumi'])"
   ]
  },
  {
   "cell_type": "code",
   "execution_count": 5,
   "id": "4f02b3e4",
   "metadata": {},
   "outputs": [],
   "source": [
    "di_corr = diLepton.corr()\n",
    "tri_corr = triLepton.corr()"
   ]
  },
  {
   "cell_type": "code",
   "execution_count": 6,
   "id": "4a162758",
   "metadata": {},
   "outputs": [
    {
     "data": {
      "image/png": "[encoded data removed]",
      "text/plain": [
       "<Figure size 1368x432 with 4 Axes>"
      ]
     },
     "metadata": {
      "needs_background": "light"
     },
     "output_type": "display_data"
    }
   ],
   "source": [
    "values2 = ['\\u0394R ll/J', 'inv. m', '\\u03B7 max', '\\u0394\\u03C6 MET/1',\n",
    "           '\\u03B7 1', '\\u0394\\u03C6 MET/0', '\\u0394R hl/J', '\\u0394R lep']\n",
    "values3 = ['inv. m 0/1', '\\u03B7 1', '\\u0394R 0/bJ', '\\u03B7 1', '\\u0394\\u03C6 MET/0', '\\u0394\\u03C6 MET/2',\n",
    "           'inv. m 0/2', '\\u0394\\u03C6 MET/1', '\\u0394R 0/1', '\\u0394R 1/J', 'inv. m 1/2', '\\u0394R 0/2']\n",
    "mask2 = np.zeros_like(di_corr)\n",
    "mask2[np.triu_indices_from(mask2)] = True\n",
    "mask3 = np.zeros_like(tri_corr)\n",
    "mask3[np.triu_indices_from(mask3)] = True\n",
    "\n",
    "f_corr, (ax_di_corr, ax_tri_corr) = plt.subplots(nrows=1, ncols=2, figsize=(19,6))\n",
    "ax_di_corr.set_title('Correlation: di-lepton signal and background\\n', fontweight='bold', size=18)\n",
    "tabc_sgn = sns.heatmap(di_corr, center=0, cmap='vlag', annot=True, fmt='.1f', linewidths=0, mask=mask2,\n",
    "            xticklabels=values2, yticklabels=values2, ax=ax_di_corr)\n",
    "\n",
    "ax_tri_corr.set_title('Correlation: tri-lepton signal and background\\n', fontweight='bold', size=18)\n",
    "tabc_corr = sns.heatmap(tri_corr, center=0, cmap='vlag', annot=True, fmt='.1f', linewidths=0, mask=mask3,\n",
    "            xticklabels=values3, yticklabels=values3, ax=ax_tri_corr)"
   ]
  },
  {
   "cell_type": "markdown",
   "id": "3d7810db",
   "metadata": {},
   "source": [
    "From the correlation matrices above we exclude $\\Delta R_{lep}$ and $\\Delta R^{0/2}$, $m^{0/2}_{inv}$ for further analysis for the di- and tri-lepton category respectively. Variables like $m^{0/2}_{inv}$ or $\\Delta R^{0/2}$ are not excluded despite having a high correlation coefficient, since they posses a high separation ranking (see section [5.](#5)).\n",
    "\n",
    "All in all, separation values, correlations and impact on the BDT performance are taken into account for the choice of the input variables."
   ]
  },
  {
   "cell_type": "markdown",
   "id": "43226621",
   "metadata": {},
   "source": [
    "<a id='2'></a>\n",
    "[Index](#index)\n",
    "### 2. Dataset setup"
   ]
  },
  {
   "cell_type": "markdown",
   "id": "730dfc76",
   "metadata": {},
   "source": [
    "The data are loaded in `ROOT.TChain` objects for the ingestion in the BDT and once again grouped by number of leptons in the final state in the di- and tri-lepton category."
   ]
  },
  {
   "cell_type": "code",
   "execution_count": 7,
   "id": "1f4aa3ff",
   "metadata": {},
   "outputs": [],
   "source": [
    "def loadData(chain, pathDirs, info=False):\n",
    "    ROOT.ROOT.EnableImplicitMT()\n",
    "    for file in pathDirs:\n",
    "        if info: print('>>> Process directory ', Dir)\n",
    "        tmp = ROOT.TFile.Open(dirOutPath + file)\n",
    "        try:\n",
    "            tmp.Get('Events').GetEntries()\n",
    "            chain.Add(dirOutPath + file)\n",
    "        except: continue\n",
    "            \n",
    "    return chain\n",
    "\n",
    "def returnFiles(string, nSkim):\n",
    "    return [file for file in listDir if (file.startswith(string) and file.endswith(str(nSkim)+'.root'))]"
   ]
  },
  {
   "cell_type": "code",
   "execution_count": 8,
   "id": "70442309",
   "metadata": {},
   "outputs": [],
   "source": [
    "bkg_files2 = returnFiles('MC',1) + returnFiles('MC',2)\n",
    "bkg_files3 = returnFiles('MC',3) + returnFiles('MC',4)\n",
    "sig_files2 = returnFiles('Sig',1) + returnFiles('Sig',2)\n",
    "sig_files3 = returnFiles('Sig',3) + returnFiles('Sig',4)\n",
    "dat_files2 = returnFiles('Dat',1) + returnFiles('Dat',2)\n",
    "dat_files3 = returnFiles('Dat',3) + returnFiles('Dat',4)\n",
    "\n",
    "### Background ###\n",
    "chain_bkg2 = ROOT.TChain('Events')\n",
    "chain_bkg2 = loadData(chain_bkg2, bkg_files2)\n",
    "\n",
    "chain_bkg3 = ROOT.TChain('Events')\n",
    "chain_bkg3 = loadData(chain_bkg3, bkg_files3)\n",
    "\n",
    "### Signal ###\n",
    "chain_sig2 = ROOT.TChain('Events')\n",
    "chain_sig2 = loadData(chain_sig2, sig_files2)\n",
    "\n",
    "chain_sig3 = ROOT.TChain('Events')\n",
    "chain_sig3 = loadData(chain_sig3, sig_files3)\n",
    "\n",
    "### Data ###\n",
    "chain_dat2 = ROOT.TChain('Events')\n",
    "chain_dat2 = loadData(chain_dat2, dat_files2)\n",
    "\n",
    "chain_dat3 = ROOT.TChain('Events')\n",
    "chain_dat3 = loadData(chain_dat3, dat_files3)"
   ]
  },
  {
   "cell_type": "markdown",
   "id": "0920ef24",
   "metadata": {},
   "source": [
    "<a id='3'></a>\n",
    "[Index](#index)\n",
    "### 3. Declare data loaders"
   ]
  },
  {
   "cell_type": "markdown",
   "id": "867669d7",
   "metadata": {},
   "source": [
    "The next step is to declare the `DataLoader` class that deals with the input variables. The data sets are divided into statistically independent samples of training and testing data with a 80/20 ratio, omitting here an independent validation sample. Individual event weights may be attributed when specified in the data set."
   ]
  },
  {
   "cell_type": "code",
   "execution_count": 9,
   "id": "889828db",
   "metadata": {},
   "outputs": [
    {
     "name": "stdout",
     "output_type": "stream",
     "text": [
      "DataSetInfo              : [dataset] : Added class \"Signal\"\n",
      "                         : Add Tree Events of type Signal with 9088 events\n",
      "DataSetInfo              : [dataset] : Added class \"Background\"\n",
      "                         : Add Tree Events of type Background with 162339 events\n",
      "DataSetInfo              : [dataset] : Added class \"Signal\"\n",
      "                         : Add Tree Events of type Signal with 5107 events\n",
      "DataSetInfo              : [dataset] : Added class \"Background\"\n",
      "                         : Add Tree Events of type Background with 161067 events\n"
     ]
    }
   ],
   "source": [
    "signalWeight     = 1.0\n",
    "backgroundWeight = 1.0\n",
    "\n",
    "### LOADER 2 ###\n",
    "loader2 = ROOT.TMVA.DataLoader('dataset')\n",
    "\n",
    "loader2.AddSignalTree(chain_sig2, signalWeight)\n",
    "loader2.AddBackgroundTree(chain_bkg2, backgroundWeight)\n",
    "\n",
    "var2 = ['max_eta','lep_eta1','inv_m','dRHJ','dRLJ','dPhi0','dPhi1']\n",
    "for var in var2:\n",
    "    loader2.AddVariable(var)\n",
    "\n",
    "### LOADER 3 ###\n",
    "loader3 = ROOT.TMVA.DataLoader('dataset')\n",
    "\n",
    "loader3.AddSignalTree(chain_sig3, signalWeight)\n",
    "loader3.AddBackgroundTree(chain_bkg3, backgroundWeight)\n",
    "\n",
    "var3 = ['inv_m01','lep_eta1','lep_eta2','inv_m12','dR1J','dR0bJ','dR01','dPhi0','dPhi1','dPhi2']\n",
    "\n",
    "for var in var3:\n",
    "    loader3.AddVariable(var)"
   ]
  },
  {
   "cell_type": "code",
   "execution_count": 10,
   "id": "5ffe5d70",
   "metadata": {},
   "outputs": [],
   "source": [
    "void_cut = ROOT.TCut('')\n",
    "\n",
    "loader2.PrepareTrainingAndTestTree(void_cut, void_cut,\n",
    "                                  'nTrain_Signal=7270:nTrain_Background=129871:SplitMode=Random:'\n",
    "                                   'NormMode=NumEvents:!V' )\n",
    "loader3.PrepareTrainingAndTestTree(void_cut, void_cut,\n",
    "                                  'nTrain_Signal=4086:nTrain_Background=128854:SplitMode=Random:'\n",
    "                                   'NormMode=NumEvents:!V' )"
   ]
  },
  {
   "cell_type": "markdown",
   "id": "b463c18c",
   "metadata": {},
   "source": [
    "<a id='4'></a>\n",
    "[Index](#index)\n",
    "### 4. Model selection and comparison"
   ]
  },
  {
   "cell_type": "markdown",
   "id": "ee7cb09a",
   "metadata": {},
   "source": [
    "A **decision tree** is a classifier that is structured as a binary tree. For each test event, repeated left/right (yes/no) decisions are performed on a single variable at a time until the event reaches a so called leaf node which classifies it as being either **signal** or **background**. The collection of leaf nodes split the phase space into many disjunct regions that are classified as being either signal- or background-like.\n",
    "\n",
    "The tree structure is defined during the training (tree building) phase, when starting from the whole training\n",
    "sample, consecutive binary splits are determined using the variable and cut value that allows maximum separation between signal and background at the time. When the splitting is finished, the node is classified as either signal\n",
    "or background depending on the majority of training events that end up in it.\n",
    "\n",
    "In TMVA, the stop criteria for the splitting during the training phase is given by the minimum number of events which is demanded for a leaf node. Small numbers of events in leaf nodes are able to capture small features in the phase space discriminating signal from background. However this may easily result in over-training, i.e. the capture of statistical fluctuations in the training sample rather than genuine features of the underlying PDFs.\n",
    "\n",
    "In order to understand and tune properly this parameters, the classifiers are then tested and evaluated to assess their performance. The optimal classifier to be used for a specific analysis strongly depends on the problem at hand and no general recommendations can be given. To simplify the choice we choose to vary the number of trees `NTrees` and boost type `BoostType`. Since ROOT 6.08 a support for hyper-parameter tuning for BDT methods is added but no further analysis is carried out due to the high computational cost.\n",
    "\n",
    "The classification algorithm tested are:\n",
    "\n",
    "- **AdaBoost**. Short adaptive boosting, its basic idea is to form the aggregate classifier in an iterative process. Importantly, at each iteration the error function is reweighted to \"highlight\" data points where the aggregate classifier performs poorly - so that in the next round the procedure put more emphasis on making those right.\n",
    "- **Bagging**. Short for Bootstrap AGGregation, it is a resampling technique where a classifier is repeatedly trained using resampled training events such that the combined classifier represents an average of the individual classifiers.\n",
    "- **Grad**. It cures the lacks of AdaBoost in robustness in presence of outliers or mislabelled data points starting from the assumption that boosting can interpreted as an optimization algorithm on a suitable cost function.\n",
    "\n",
    "The statistical measure used is the integral of the ROC curve."
   ]
  },
  {
   "cell_type": "code",
   "execution_count": 11,
   "id": "dee82018",
   "metadata": {},
   "outputs": [
    {
     "name": "stdout",
     "output_type": "stream",
     "text": [
      "                         : \n",
      "                         : Evaluation results ranked by best signal efficiency and purity (area)\n",
      "                         : -------------------------------------------------------------------------------------------------------------------\n",
      "                         : DataSet       MVA                       \n",
      "                         : Name:         Method:          ROC-integ\n",
      "                         : dataset       BDT3_20_Grad   : 0.791\n",
      "                         : dataset       BDT3_50_Grad   : 0.791\n",
      "                         : dataset       BDT3_10_Grad   : 0.787\n",
      "                         : dataset       BDT3_100_Grad  : 0.786\n",
      "                         : dataset       BDT3_400_Grad  : 0.772\n",
      "                         : dataset       BDT3_800_Grad  : 0.769\n",
      "                         : dataset       BDT3_400_Bagging: 0.732\n",
      "                         : dataset       BDT3_800_Bagging: 0.730\n",
      "                         : dataset       BDT3_100_Bagging: 0.729\n",
      "                         : dataset       BDT3_50_Bagging: 0.729\n",
      "                         : dataset       BDT3_20_Bagging: 0.728\n",
      "                         : dataset       BDT3_10_Bagging: 0.725\n",
      "                         : dataset       BDT3_400_AdaBoost: 0.706\n",
      "                         : dataset       BDT3_800_AdaBoost: 0.706\n",
      "                         : dataset       BDT3_50_AdaBoost: 0.706\n",
      "                         : dataset       BDT3_100_AdaBoost: 0.706\n",
      "                         : dataset       BDT3_20_AdaBoost: 0.705\n",
      "                         : dataset       BDT3_10_AdaBoost: 0.703\n",
      "                         : dataset       BDT2_50_Grad   : 0.667\n",
      "                         : dataset       BDT2_20_Grad   : 0.667\n",
      "                         : dataset       BDT2_100_Grad  : 0.666\n",
      "                         : dataset       BDT2_400_Grad  : 0.658\n",
      "                         : dataset       BDT2_10_Grad   : 0.656\n",
      "                         : dataset       BDT2_800_Grad  : 0.650\n",
      "                         : dataset       BDT2_100_Bagging: 0.610\n",
      "                         : dataset       BDT2_400_Bagging: 0.610\n",
      "                         : dataset       BDT2_800_Bagging: 0.609\n",
      "                         : dataset       BDT2_20_Bagging: 0.611\n",
      "                         : dataset       BDT2_50_Bagging: 0.609\n",
      "                         : dataset       BDT2_10_AdaBoost: 0.603\n",
      "                         : dataset       BDT2_20_AdaBoost: 0.601\n",
      "                         : dataset       BDT2_400_AdaBoost: 0.602\n",
      "                         : dataset       BDT2_800_AdaBoost: 0.602\n",
      "                         : dataset       BDT2_100_AdaBoost: 0.602\n",
      "                         : dataset       BDT2_50_AdaBoost: 0.602\n",
      "                         : dataset       BDT2_10_Bagging: 0.600\n",
      "                         : -------------------------------------------------------------------------------------------------------------------\n",
      "                         : \n",
      "                         : Testing efficiency compared to training efficiency (overtraining check)\n",
      "                         : -------------------------------------------------------------------------------------------------------------------\n",
      "                         : DataSet              MVA              Signal efficiency: from test sample (from training sample) \n",
      "                         : Name:                Method:          @B=0.01             @B=0.10            @B=0.30   \n",
      "                         : -------------------------------------------------------------------------------------------------------------------\n",
      "                         : dataset              BDT3_20_Grad   : 0.076 (0.077)       0.392 (0.391)      0.722 (0.718)\n",
      "                         : dataset              BDT3_50_Grad   : 0.076 (0.077)       0.384 (0.383)      0.726 (0.723)\n",
      "                         : dataset              BDT3_10_Grad   : 0.076 (0.078)       0.362 (0.360)      0.716 (0.712)\n",
      "                         : dataset              BDT3_100_Grad  : 0.081 (0.080)       0.374 (0.374)      0.710 (0.713)\n",
      "                         : dataset              BDT3_400_Grad  : 0.061 (0.066)       0.336 (0.341)      0.683 (0.682)\n",
      "                         : dataset              BDT3_800_Grad  : 0.064 (0.071)       0.336 (0.357)      0.691 (0.696)\n",
      "                         : dataset              BDT3_400_Bagging: 0.000 (0.000)       0.337 (0.326)      0.588 (0.586)\n",
      "                         : dataset              BDT3_800_Bagging: 0.067 (0.066)       0.329 (0.321)      0.573 (0.573)\n",
      "                         : dataset              BDT3_100_Bagging: 0.000 (0.000)       0.336 (0.331)      0.573 (0.570)\n",
      "                         : dataset              BDT3_50_Bagging: 0.000 (0.000)       0.329 (0.322)      0.585 (0.584)\n",
      "                         : dataset              BDT3_20_Bagging: 0.000 (0.000)       0.309 (0.304)      0.601 (0.600)\n",
      "                         : dataset              BDT3_10_Bagging: 0.000 (0.000)       0.311 (0.304)      0.613 (0.611)\n",
      "                         : dataset              BDT3_400_AdaBoost: 0.067 (0.065)       0.328 (0.326)      0.615 (0.615)\n",
      "                         : dataset              BDT3_800_AdaBoost: 0.067 (0.065)       0.328 (0.326)      0.615 (0.615)\n",
      "                         : dataset              BDT3_50_AdaBoost: 0.068 (0.066)       0.328 (0.326)      0.614 (0.614)\n",
      "                         : dataset              BDT3_100_AdaBoost: 0.067 (0.065)       0.328 (0.326)      0.615 (0.615)\n",
      "                         : dataset              BDT3_20_AdaBoost: 0.071 (0.069)       0.327 (0.326)      0.608 (0.607)\n",
      "                         : dataset              BDT3_10_AdaBoost: 0.000 (0.000)       0.323 (0.322)      0.610 (0.608)\n",
      "                         : dataset              BDT2_50_Grad   : 0.029 (0.029)       0.218 (0.226)      0.529 (0.535)\n",
      "                         : dataset              BDT2_20_Grad   : 0.028 (0.029)       0.222 (0.228)      0.515 (0.525)\n",
      "                         : dataset              BDT2_100_Grad  : 0.029 (0.029)       0.205 (0.217)      0.520 (0.524)\n",
      "                         : dataset              BDT2_400_Grad  : 0.021 (0.024)       0.203 (0.220)      0.508 (0.523)\n",
      "                         : dataset              BDT2_10_Grad   : 0.028 (0.029)       0.195 (0.203)      0.506 (0.511)\n",
      "                         : dataset              BDT2_800_Grad  : 0.021 (0.026)       0.205 (0.221)      0.489 (0.500)\n",
      "                         : dataset              BDT2_100_Bagging: 0.000 (0.000)       0.182 (0.183)      0.453 (0.449)\n",
      "                         : dataset              BDT2_400_Bagging: 0.000 (0.000)       0.173 (0.173)      0.450 (0.447)\n",
      "                         : dataset              BDT2_800_Bagging: 0.020 (0.021)       0.174 (0.175)      0.448 (0.445)\n",
      "                         : dataset              BDT2_20_Bagging: 0.000 (0.000)       0.178 (0.176)      0.458 (0.455)\n",
      "                         : dataset              BDT2_50_Bagging: 0.000 (0.000)       0.173 (0.172)      0.456 (0.453)\n",
      "                         : dataset              BDT2_10_AdaBoost: 0.000 (0.000)       0.176 (0.172)      0.448 (0.446)\n",
      "                         : dataset              BDT2_20_AdaBoost: 0.000 (0.000)       0.166 (0.164)      0.448 (0.446)\n",
      "                         : dataset              BDT2_400_AdaBoost: 0.000 (0.000)       0.166 (0.164)      0.448 (0.446)\n",
      "                         : dataset              BDT2_800_AdaBoost: 0.000 (0.000)       0.166 (0.164)      0.448 (0.446)\n",
      "                         : dataset              BDT2_100_AdaBoost: 0.000 (0.000)       0.166 (0.164)      0.448 (0.446)\n",
      "                         : dataset              BDT2_50_AdaBoost: 0.000 (0.000)       0.166 (0.164)      0.448 (0.446)\n",
      "                         : dataset              BDT2_10_Bagging: 0.000 (0.000)       0.000 (0.000)      0.436 (0.435)\n",
      "                         : -------------------------------------------------------------------------------------------------------------------\n",
      "                         : \n"
     ]
    }
   ],
   "source": [
    "%%capture\n",
    "\n",
    "outputFileGrid = ROOT.TFile.Open('gridClassification.root', 'RECREATE')\n",
    "\n",
    "factoryGrid = ROOT.TMVA.Factory('TMVA_Classification', outputFileGrid,\n",
    "                      '!V:ROC:Silent:Color:!DrawProgressBar:AnalysisType=Classification' )\n",
    "\n",
    "nTrees = [10, 20, 50, 100, 400, 800]\n",
    "boost = ['AdaBoost', 'Bagging', 'Grad']\n",
    "\n",
    "for tree in nTrees:\n",
    "    for boo in boost:\n",
    "        str2 = 'BDT2_{}_{}'.format(tree,boo)\n",
    "        str3 = 'BDT3_{}_{}'.format(tree,boo)\n",
    "\n",
    "        factoryGrid.BookMethod(loader2,ROOT.TMVA.Types.kBDT, str2,\n",
    "               '!V:NTrees={}:MinNodeSize=2.5%:MaxDepth=3:BoostType={}:'\n",
    "               'SeparationType=SDivSqrtSPlusB'.format(tree,boo) )\n",
    "\n",
    "        factoryGrid.BookMethod(loader3,ROOT.TMVA.Types.kBDT, str3,\n",
    "               '!V:NTrees={}:MinNodeSize=2.5%:MaxDepth=3:BoostType={}:'\n",
    "               'SeparationType=SDivSqrtSPlusB'.format(tree,boo) )\n",
    "            \n",
    "factoryGrid.TrainAllMethods()\n",
    "factoryGrid.TestAllMethods()\n",
    "factoryGrid.EvaluateAllMethods()\n",
    "outputFileGrid.Close()"
   ]
  },
  {
   "cell_type": "markdown",
   "id": "f50653cb",
   "metadata": {},
   "source": [
    "The best set of parameters found is for 20 trees and with gradient boosting for both the di- and tri-lepton category. The same set is therefore used for the following analysis."
   ]
  },
  {
   "cell_type": "markdown",
   "id": "fe9afa77",
   "metadata": {},
   "source": [
    "<a id='5'></a>\n",
    "[Index](#index)\n",
    "### 5. BDT training"
   ]
  },
  {
   "cell_type": "markdown",
   "id": "032a9c76",
   "metadata": {},
   "source": [
    "A `Factory` class organises the interaction between the user and the TMVA analysis steps including preanalysis and preprocessing of the training data. After the training, the classifier writes the entire information needed for its later application to a weight file.\n",
    "\n",
    "Finally, the ROC curves for the trained methods in both categories are plotted."
   ]
  },
  {
   "cell_type": "code",
   "execution_count": 12,
   "id": "1eb74d74",
   "metadata": {},
   "outputs": [],
   "source": [
    "ROOT.TMVA.Tools.Instance()\n",
    "TMVA.PyMethodBase.PyInitialize();\n",
    "\n",
    "\n",
    "outputFile = ROOT.TFile.Open('Classification.root', 'RECREATE')\n",
    "\n",
    "factory = ROOT.TMVA.Factory('TMVA_Classification', outputFile,\n",
    "                      '!V:ROC:Color:!DrawProgressBar:AnalysisType=Classification' )"
   ]
  },
  {
   "cell_type": "code",
   "execution_count": 13,
   "id": "585c50b9",
   "metadata": {},
   "outputs": [
    {
     "data": {
      "text/plain": [
       "<cppyy.gbl.TMVA.MethodBDT object at 0x55ec55ebb1c0>"
      ]
     },
     "execution_count": 13,
     "metadata": {},
     "output_type": "execute_result"
    }
   ],
   "source": [
    "factory.BookMethod(loader2,ROOT.TMVA.Types.kBDT, 'BDT2',\n",
    "                   '!V:NTrees=20:MinNodeSize=2.5%:MaxDepth=3:BoostType=Grad:'\n",
    "                   'SeparationType=SDivSqrtSPlusB' )\n",
    "\n",
    "factory.BookMethod(loader3,ROOT.TMVA.Types.kBDT, 'BDT3',\n",
    "                   '!V:NTrees=20:MinNodeSize=2.5%:MaxDepth=3:BoostType=Grad:'\n",
    "                   'SeparationType=SDivSqrtSPlusB' )"
   ]
  },
  {
   "cell_type": "code",
   "execution_count": 14,
   "id": "16de2c8d",
   "metadata": {
    "scrolled": true
   },
   "outputs": [],
   "source": [
    "factory.TrainAllMethods()"
   ]
  },
  {
   "cell_type": "code",
   "execution_count": 15,
   "id": "8a013223",
   "metadata": {},
   "outputs": [],
   "source": [
    "factory.TestAllMethods()"
   ]
  },
  {
   "cell_type": "code",
   "execution_count": 16,
   "id": "1e676682",
   "metadata": {
    "scrolled": true
   },
   "outputs": [
    {
     "name": "stdout",
     "output_type": "stream",
     "text": [
      "                         : \n",
      "                         : Evaluation results ranked by best signal efficiency and purity (area)\n",
      "                         : -------------------------------------------------------------------------------------------------------------------\n",
      "                         : DataSet       MVA                       \n",
      "                         : Name:         Method:          ROC-integ\n",
      "                         : dataset       BDT3           : 0.791\n",
      "                         : dataset       BDT2           : 0.667\n",
      "                         : -------------------------------------------------------------------------------------------------------------------\n",
      "                         : \n",
      "                         : Testing efficiency compared to training efficiency (overtraining check)\n",
      "                         : -------------------------------------------------------------------------------------------------------------------\n",
      "                         : DataSet              MVA              Signal efficiency: from test sample (from training sample) \n",
      "                         : Name:                Method:          @B=0.01             @B=0.10            @B=0.30   \n",
      "                         : -------------------------------------------------------------------------------------------------------------------\n",
      "                         : dataset              BDT3           : 0.076 (0.077)       0.392 (0.391)      0.722 (0.718)\n",
      "                         : dataset              BDT2           : 0.028 (0.029)       0.222 (0.228)      0.515 (0.525)\n",
      "                         : -------------------------------------------------------------------------------------------------------------------\n",
      "                         : \n",
      "Dataset:dataset          : Created tree 'TestTree' with 34286 events\n",
      "                         : \n",
      "Dataset:dataset          : Created tree 'TrainTree' with 137141 events\n",
      "                         : \n",
      "Factory                  : \u001b[1mThank you for using TMVA!\u001b[0m\n",
      "                         : \u001b[1mFor citation information, please visit: http://tmva.sf.net/citeTMVA.html\u001b[0m\n"
     ]
    }
   ],
   "source": [
    "factory.EvaluateAllMethods()"
   ]
  },
  {
   "cell_type": "code",
   "execution_count": 17,
   "id": "2cbf5c6f",
   "metadata": {},
   "outputs": [],
   "source": [
    "outputFile.Close()"
   ]
  },
  {
   "cell_type": "code",
   "execution_count": 18,
   "id": "261960a0",
   "metadata": {},
   "outputs": [
    {
     "name": "stdout",
     "output_type": "stream",
     "text": [
      "AUC diLepton:\t 0.667\n",
      "AUC triLepton:\t 0.791\n"
     ]
    },
    {
     "data": {
      "image/png": "[encoded data removed]",
      "text/plain": [
       "<IPython.core.display.Image object>"
      ]
     },
     "metadata": {},
     "output_type": "display_data"
    }
   ],
   "source": [
    "c = ROOT.TCanvas('','',1500,600)\n",
    "c.Divide(2,1)\n",
    "c.cd(1)\n",
    "roc = factory.GetROCCurve(loader2, 'BDT2')\n",
    "roc.Draw()\n",
    "print('AUC diLepton:\\t', round(factory.GetROCIntegral(loader2, 'BDT2'),3))\n",
    "c.cd(2)\n",
    "roc = factory.GetROCCurve(loader3, 'BDT3')\n",
    "roc.Draw()\n",
    "print('AUC triLepton:\\t', round(factory.GetROCIntegral(loader3, 'BDT3'),3))\n",
    "c.Draw()"
   ]
  },
  {
   "cell_type": "markdown",
   "id": "d0c0cd20",
   "metadata": {},
   "source": [
    "<a id='6'></a>\n",
    "[Index](#index)\n",
    "### 6. Evaluation of the classifier"
   ]
  },
  {
   "cell_type": "markdown",
   "id": "1953a098",
   "metadata": {},
   "source": [
    "The application of the trained classifiers to the selection of events from a data sample with unknown signal and background composition is handled via a `Reader` object, which reads and interprets the weight file and produces the corresponding output."
   ]
  },
  {
   "cell_type": "code",
   "execution_count": 19,
   "id": "19142bef",
   "metadata": {},
   "outputs": [],
   "source": [
    "read = ROOT.TFile.Open('Classification.root')"
   ]
  },
  {
   "cell_type": "code",
   "execution_count": 20,
   "id": "20e4c82e",
   "metadata": {},
   "outputs": [
    {
     "name": "stdout",
     "output_type": "stream",
     "text": [
      "                         : Booking \"BDT2\" of type \"BDT\" from dataset/weights/TMVA_Classification_BDT2.weights.xml.\n",
      "                         : Reading weight file: dataset/weights/TMVA_Classification_BDT2.weights.xml\n",
      "<HEADER> DataSetInfo              : [Default] : Added class \"Signal\"\n",
      "<HEADER> DataSetInfo              : [Default] : Added class \"Background\"\n",
      "                         : Booked classifier \"BDT2\" of type: \"BDT\"\n"
     ]
    }
   ],
   "source": [
    "from array import array\n",
    "max_eta = array('f',[0])\n",
    "lep_eta1 = array('f',[0])\n",
    "inv_m = array('f',[0])\n",
    "dRHJ = array('f',[0])\n",
    "dRLJ = array('f',[0])\n",
    "dPhi0 = array('f',[0])\n",
    "dPhi1 = array('f',[0])\n",
    "\n",
    "reader = TMVA.Reader('evaluation')\n",
    "\n",
    "reader.AddVariable('max_eta', max_eta)\n",
    "reader.AddVariable('lep_eta1', lep_eta1)\n",
    "reader.AddVariable('inv_m', inv_m)\n",
    "reader.AddVariable('dRHJ', dRHJ)\n",
    "reader.AddVariable('dRLJ', dRLJ)\n",
    "reader.AddVariable('dPhi0', dPhi0)\n",
    "reader.AddVariable('dPhi1', dPhi1)\n",
    "\n",
    "weightfile = 'dataset/weights/TMVA_Classification_BDT2.weights.xml'\n",
    "\n",
    "reader.BookMVA('BDT2', weightfile)\n",
    "\n",
    "d2 = ROOT.TH1D('d2','Classifier Output on Data Events',30,-1,1)\n",
    "s2 = ROOT.TH1D('s2','Classifier Output on Signal Events',30,-1,1)\n",
    "b2 = ROOT.TH1D('b2','Classifier Output on Background Events',30,-1,1)\n",
    "\n",
    "for entry in chain_dat2:\n",
    "    \n",
    "    max_eta[0] = entry.max_eta\n",
    "    lep_eta1[0] = entry.lep_eta1\n",
    "    inv_m[0] = entry.inv_m\n",
    "    dRHJ[0] = entry.dRHJ\n",
    "    dRLJ[0] = entry.dRLJ\n",
    "    dPhi0[0] = entry.dPhi0\n",
    "    dPhi1[0] = entry.dPhi1\n",
    "    \n",
    "    output = reader.EvaluateMVA('BDT2')\n",
    "  \n",
    "    d2.Fill(output)\n",
    "    \n",
    "for entry in chain_sig2:\n",
    "    \n",
    "    max_eta[0] = entry.max_eta\n",
    "    lep_eta1[0] = entry.lep_eta1\n",
    "    inv_m[0] = entry.inv_m\n",
    "    dRHJ[0] = entry.dRHJ\n",
    "    dRLJ[0] = entry.dRLJ\n",
    "    dPhi0[0] = entry.dPhi0\n",
    "    dPhi1[0] = entry.dPhi1\n",
    "    \n",
    "    output = reader.EvaluateMVA('BDT2')\n",
    "  \n",
    "    s2.Fill(output)\n",
    "    \n",
    "for entry in chain_bkg2:\n",
    "    \n",
    "    max_eta[0] = entry.max_eta\n",
    "    lep_eta1[0] = entry.lep_eta1\n",
    "    inv_m[0] = entry.inv_m\n",
    "    dRHJ[0] = entry.dRHJ\n",
    "    dRLJ[0] = entry.dRLJ\n",
    "    dPhi0[0] = entry.dPhi0\n",
    "    dPhi1[0] = entry.dPhi1\n",
    "    \n",
    "    output = reader.EvaluateMVA('BDT2')\n",
    "  \n",
    "    b2.Fill(output, entry.eventWeightLumi)"
   ]
  },
  {
   "cell_type": "code",
   "execution_count": 21,
   "id": "c237c954",
   "metadata": {},
   "outputs": [
    {
     "name": "stdout",
     "output_type": "stream",
     "text": [
      "                         : Booking \"BDT3\" of type \"BDT\" from dataset/weights/TMVA_Classification_BDT3.weights.xml.\n",
      "                         : Reading weight file: dataset/weights/TMVA_Classification_BDT3.weights.xml\n",
      "<HEADER> DataSetInfo              : [Default] : Added class \"Signal\"\n",
      "<HEADER> DataSetInfo              : [Default] : Added class \"Background\"\n",
      "                         : Booked classifier \"BDT3\" of type: \"BDT\"\n"
     ]
    }
   ],
   "source": [
    "inv_m01 = array('f',[0])\n",
    "lep_eta1 = array('f',[0])\n",
    "lep_eta2 = array('f',[0])\n",
    "inv_m12 = array('f',[0])\n",
    "dR1J = array('f',[0])\n",
    "dR0bJ = array('f',[0])\n",
    "dR01 = array('f',[0])\n",
    "dPhi0 = array('f',[0])\n",
    "dPhi1 = array('f',[0])\n",
    "dPhi2 = array('f',[0])\n",
    "\n",
    "reader = TMVA.Reader('evaluation')\n",
    "\n",
    "reader.AddVariable('inv_m01', inv_m01)\n",
    "reader.AddVariable('lep_eta1', lep_eta1)\n",
    "reader.AddVariable('lep_eta2', lep_eta2)\n",
    "reader.AddVariable('inv_m12', inv_m12)\n",
    "reader.AddVariable('dR1J', dR1J)\n",
    "reader.AddVariable('dR0bJ', dR0bJ)\n",
    "reader.AddVariable('dR01', dR01)\n",
    "reader.AddVariable('dPhi0', dPhi0)\n",
    "reader.AddVariable('dPhi1', dPhi1)\n",
    "reader.AddVariable('dPhi2', dPhi2)\n",
    "\n",
    "weightfile = 'dataset/weights/TMVA_Classification_BDT3.weights.xml'\n",
    "\n",
    "reader.BookMVA('BDT3', weightfile)\n",
    "\n",
    "d3 = ROOT.TH1D('d3','Classifier Output on Data Events',30,-1,1)\n",
    "s3 = ROOT.TH1D('s3','Classifier Output on Signal Events',30,-1,1)\n",
    "b3 = ROOT.TH1D('b3','Classifier Output on Background Events',30,-1,1)\n",
    "\n",
    "for entry in chain_dat3:\n",
    "    \n",
    "    inv_m01[0] = entry.inv_m01\n",
    "    lep_eta1[0] = entry.lep_eta1\n",
    "    lep_eta2[0] = entry.lep_eta2\n",
    "    inv_m12[0] = entry.inv_m12\n",
    "    dR1J[0] = entry.dR1J\n",
    "    dR0bJ[0] = entry.dR0bJ\n",
    "    dR01[0] = entry.dR01\n",
    "    dPhi0[0] = entry.dPhi0\n",
    "    dPhi1[0] = entry.dPhi1\n",
    "    dPhi2[0] = entry.dPhi2\n",
    "    \n",
    "    output = reader.EvaluateMVA('BDT3')\n",
    "  \n",
    "    d3.Fill(output)\n",
    "    \n",
    "for entry in chain_sig3:\n",
    "    \n",
    "    inv_m01[0] = entry.inv_m01\n",
    "    lep_eta1[0] = entry.lep_eta1\n",
    "    lep_eta2[0] = entry.lep_eta2\n",
    "    inv_m12[0] = entry.inv_m12\n",
    "    dR1J[0] = entry.dR1J\n",
    "    dR0bJ[0] = entry.dR0bJ\n",
    "    dR01[0] = entry.dR01\n",
    "    dPhi0[0] = entry.dPhi0\n",
    "    dPhi1[0] = entry.dPhi1\n",
    "    dPhi2[0] = entry.dPhi2\n",
    "    \n",
    "    output = reader.EvaluateMVA('BDT3')\n",
    "  \n",
    "    s3.Fill(output)\n",
    "    \n",
    "for entry in chain_bkg3:\n",
    "    \n",
    "    inv_m01[0] = entry.inv_m01\n",
    "    lep_eta1[0] = entry.lep_eta1\n",
    "    lep_eta2[0] = entry.lep_eta2\n",
    "    inv_m12[0] = entry.inv_m12\n",
    "    dR1J[0] = entry.dR1J\n",
    "    dR0bJ[0] = entry.dR0bJ\n",
    "    dR01[0] = entry.dR01\n",
    "    dPhi0[0] = entry.dPhi0\n",
    "    dPhi1[0] = entry.dPhi1\n",
    "    dPhi2[0] = entry.dPhi2\n",
    "    \n",
    "    output = reader.EvaluateMVA('BDT3')\n",
    "  \n",
    "    b3.Fill(output, entry.eventWeightLumi)"
   ]
  },
  {
   "cell_type": "code",
   "execution_count": 22,
   "id": "b1bd8379",
   "metadata": {},
   "outputs": [],
   "source": [
    "def plot_bdt(data, sig, bkg):    \n",
    "    # Styles\n",
    "    ROOT.gStyle.SetOptStat(0)\n",
    "    ROOT.gStyle.SetCanvasBorderMode(0)\n",
    "    ROOT.gStyle.SetCanvasColor(ROOT.kWhite)\n",
    "    ROOT.gStyle.SetCanvasDefH(600)\n",
    "    ROOT.gStyle.SetCanvasDefW(600)\n",
    "    ROOT.gStyle.SetCanvasDefX(0)\n",
    "    ROOT.gStyle.SetCanvasDefY(0)\n",
    "    ROOT.gStyle.SetPadTopMargin(0.08)\n",
    "    ROOT.gStyle.SetPadBottomMargin(0.13)\n",
    "    ROOT.gStyle.SetPadLeftMargin(0.16)\n",
    "    ROOT.gStyle.SetPadRightMargin(0.05)\n",
    "    ROOT.gStyle.SetHistLineColor(1)\n",
    "    ROOT.gStyle.SetHistLineStyle(0)\n",
    "    ROOT.gStyle.SetHistLineWidth(1)\n",
    "    ROOT.gStyle.SetEndErrorSize(2)\n",
    "    ROOT.gStyle.SetMarkerStyle(20)\n",
    "    ROOT.gStyle.SetOptTitle(0)\n",
    "    ROOT.gStyle.SetTitleFont(42)\n",
    "    ROOT.gStyle.SetTitleColor(1)\n",
    "    ROOT.gStyle.SetTitleTextColor(1)\n",
    "    ROOT.gStyle.SetTitleFillColor(10)\n",
    "    ROOT.gStyle.SetTitleFontSize(0.05)\n",
    "    ROOT.gStyle.SetTitleColor(1, 'XYZ')\n",
    "    ROOT.gStyle.SetTitleFont(42, 'XYZ')\n",
    "    ROOT.gStyle.SetTitleSize(0.05, 'XYZ')\n",
    "    ROOT.gStyle.SetTitleXOffset(1.00)\n",
    "    ROOT.gStyle.SetTitleYOffset(1.60)\n",
    "    ROOT.gStyle.SetLabelColor(1, 'XYZ')\n",
    "    ROOT.gStyle.SetLabelFont(42, 'XYZ')\n",
    "    ROOT.gStyle.SetLabelOffset(0.007, 'XYZ')\n",
    "    ROOT.gStyle.SetLabelSize(0.04, 'XYZ')\n",
    "    ROOT.gStyle.SetAxisColor(1, 'XYZ')\n",
    "    ROOT.gStyle.SetStripDecimals(True)\n",
    "    ROOT.gStyle.SetTickLength(0.03, 'XYZ')\n",
    "    ROOT.gStyle.SetNdivisions(510, 'XYZ')\n",
    "    ROOT.gStyle.SetPadTickX(1)\n",
    "    ROOT.gStyle.SetPadTickY(1)\n",
    "    ROOT.gStyle.SetPaperSize(20., 20.)\n",
    "    ROOT.gStyle.SetHatchesLineWidth(5)\n",
    "    ROOT.gStyle.SetHatchesSpacing(0.05)\n",
    "    ROOT.TGaxis.SetExponentOffset(-0.08, 0.01, 'Y')\n",
    "    \n",
    "    c = ROOT.TCanvas('', '', 600, 600)\n",
    "    c.cd()\n",
    "    \n",
    "    sig.SetLineColor(ROOT.TColor.GetColor('#00A88F'))\n",
    "    sig.SetLineWidth(3)\n",
    "    sig.Draw('HIST')\n",
    "    \n",
    "    bkg.SetLineColor(2)\n",
    "    bkg.SetLineColor(ROOT.TColor.GetColor(248, 206, 104))\n",
    "    bkg.SetLineWidth(3)\n",
    "    bkg.Draw('E2 HIST SAME')\n",
    "    \n",
    "    data.SetMarkerStyle(20)\n",
    "    data.SetLineColor(ROOT.kBlack)\n",
    "    data.SetLineWidth(3)\n",
    "    data.Draw('E1P SAME')\n",
    "    \n",
    "    sig.GetXaxis().SetTitle('BDT discriminant')\n",
    "    sig.GetYaxis().SetTitle('N_{Events}')\n",
    "    \n",
    "     # Add legend\n",
    "    legend = ROOT.TLegend(0.2, 0.7, 0.5, 0.9)\n",
    "    legend.SetNColumns(2)\n",
    "    legend.AddEntry(sig, 'Signal', 'f')\n",
    "    legend.AddEntry(bkg, 'Background', 'f')\n",
    "    legend.AddEntry(data, 'Data', 'lep')\n",
    "    legend.SetBorderSize(0)\n",
    "    \n",
    "    # Add title\n",
    "    latex = ROOT.TLatex()\n",
    "    latex.SetNDC()\n",
    "    latex.SetTextSize(0.04)\n",
    "    latex.SetTextFont(42)\n",
    "    latex.DrawLatex(0.16, 0.935, '#bf{BDT output}')\n",
    "    \n",
    "    return c, legend"
   ]
  },
  {
   "cell_type": "code",
   "execution_count": 23,
   "id": "3c7c31ec",
   "metadata": {},
   "outputs": [
    {
     "data": {
      "image/png": "[encoded data removed]",
      "text/plain": [
       "<IPython.core.display.Image object>"
      ]
     },
     "metadata": {},
     "output_type": "display_data"
    }
   ],
   "source": [
    "c, l = plot_bdt(d2, s2, b2)\n",
    "l.Draw()\n",
    "c.Draw()"
   ]
  },
  {
   "cell_type": "code",
   "execution_count": 24,
   "id": "b08130cf",
   "metadata": {
    "scrolled": false
   },
   "outputs": [
    {
     "data": {
      "image/png": "[encoded data removed]",
      "text/plain": [
       "<IPython.core.display.Image object>"
      ]
     },
     "metadata": {},
     "output_type": "display_data"
    }
   ],
   "source": [
    "c, l = plot_bdt(d3, s3, b3)\n",
    "l.Draw()\n",
    "c.Draw()"
   ]
  },
  {
   "cell_type": "markdown",
   "id": "d20c93f2",
   "metadata": {},
   "source": [
    "The two plots above represent the two discriminat variables produced by the BDT respectively for the di-lepton channel and the tri-lepton one. As expected the distributions of data and background are qualitatively very similar to each other, while the distribution of signal has a different shape from the other two (the normalization in this case is arbitrary, the strength of the signal having to be estimated yet). This is is more evident in the case of the tri-lepton categories, which enjoy a bigger (and with higher separation values) set of initial discriminant variables. This difference between the two is further corroborated by observing the Integral Under Curve of the ROC."
   ]
  },
  {
   "cell_type": "markdown",
   "id": "c9fa1265",
   "metadata": {},
   "source": [
    "<a id='7'></a>\n",
    "[Index](#index)\n",
    "### 7. Statistical analysis"
   ]
  },
  {
   "cell_type": "markdown",
   "id": "27b3f11e",
   "metadata": {},
   "source": [
    "The statistical analysis is in charge of extracting the upper limit on the strength of the signal from the discriminant variables produced by the BDT. The procedure is briefly summarized in the following steps:\n",
    "\n",
    "1. A likelihood is built considering every bin as independent from the others, so that the complete likelihood can be written as the product of the single-bin likelihoods. The choosen model is a simple poisson distribution with mean equal to the bin count (nuisance parameters coming from the modeling of systematic uncertainties are ignored). The data (so the counts in the data bins) are assumed to be described by a model with mean composed by background and a signal of strength $\\mu$ (that is a multiplicative factor of the signal). Calling $n$ the data counts, $b$ the background counts and $s$ the signal ones, the likelihood takes the following form:\n",
    "\n",
    "$$\n",
    "\\mathcal{L}\\,(n|b+\\mu s) = \\Pi^{n_{\\text{bins}}}\\, \\text{Poi}\\,(n|b+\\mu s)\n",
    "$$\n",
    "\n",
    "2. The likelihood is maximized with respect to the parameter $\\mu$, this yelds $\\hat{\\mu}$. This parameter is assumed to be the best descriptor of the data and is used as a reference point, i.e. normalization factor, in the subsequent comparison between the hypothesis $H_0$ (i.e. background only) and $H_1$ (i.e. signal of strength $\\mu$).\n",
    "\n",
    "3. Taking a given $\\mu$ the ratio $q(\\mu)_{\\text{obs}} = \\frac{\\mathcal{L}\\,(n|b+\\mu s)}{\\mathcal{L}\\,(n|b+\\hat{\\mu} s)}$ is computed. Toys data are generated with poisson distributions centered on bins counts of signal of strength $\\mu$ (i.e. using a mean equal to $b+\\mu s$) and are denoted as $n_{\\text{toys}}$. These are used to compute the ratios between the two distributions (sampling from them) to be compared and the reference one, that is respectively for $H_0$ and $H_1$:\n",
    "\n",
    "$$\n",
    "H_0:\n",
    "\\quad\n",
    "q(\\mu)_0 = \\frac{\\mathcal{L}\\,(n_{\\text{toys}}|b)}{\\mathcal{L}\\,(n_{\\text{toys}}|b+\\hat{\\mu} s)}\n",
    "\\qquad\\qquad\n",
    "H_1:\n",
    "\\quad\n",
    "q(\\mu)_1 = \\frac{\\mathcal{L}\\,(n_{\\text{toys}}|b+\\mu s)}{\\mathcal{L}\\,(n_{\\text{toys}}|b+\\hat{\\mu} s)}\n",
    "$$\n",
    "\n",
    "4. Taking the distributions $f(q(\\mu)_0|b)$ and $f(q(\\mu)_1|b,\\mu)$ sampled before the following two integral are computed:\n",
    "\n",
    "$$\n",
    "H_0:\n",
    "\\quad\n",
    "p_{\\mu} = \\int_{q(\\mu)_{\\text{obs}}}^\\infty f(q(\\mu)_0|b)\n",
    "\\qquad\\qquad\n",
    "H_1:\n",
    "\\quad\n",
    "1-p_b = \\int_{q(\\mu)_{\\text{obs}}}^\\infty f(q(\\mu)_1|b,\\mu)\n",
    "$$\n",
    "\n",
    "5. The procedure of points 3 and 4 is repeated varying the injected value of $\\mu$ until the value of $CL=\\frac{p_{\\mu}}{1-p_b}$ is equal to $0.05$. The value of $\\mu$ that satisfies this condition is the upper limit on the signal strength at $95\\%$ confidence level.\n",
    "\n",
    "6. Finally the significance is the number of standard deviations such that a gaussian has a tail area equal to $1-p_b$. If $z$ is the significance, $p_0 = \\int^{+\\infty}_z \\mathcal{N}(0,1)dx$.\n",
    "\n",
    "For what concerns the code, a grid for the values of $\\mu$ is defined in order to make an approximated optimization.\n",
    "To evaluate the likelihood on the grid in a vectorized way a matrix of the bin counts is created. The data are repeated as they are for every value of $\\mu$ by means of `np.tile`, so they constitute a matrix of `nbins` rows and `len(mu_grid)` columns all equals to one another. The parameter of the poisson is a matrix of nbins rows which has again `len(mu_grid)` columns. In this case every column is different as it is given by bins $b+\\mu\\cdot sig$ over the changing values of $\\mu$.\n",
    "\n",
    "In the first lines a small negative count value is present in the background histogram, maybe due to some approximation in the MC events weights. It is then approximated to zero. In the extraction of toys the use of ntoys set of bins all equals is only due to the functioning of `ps.rvs`. The mean of the extraction is in fact constant for every bin."
   ]
  },
  {
   "cell_type": "code",
   "execution_count": 35,
   "id": "0841613d",
   "metadata": {},
   "outputs": [],
   "source": [
    "import scipy as sp\n",
    "from scipy.stats import poisson as ps\n",
    "\n",
    "def stat(data_hist, sig_hist, bkg_hist):\n",
    "    \n",
    "    np.random.seed(12345)\n",
    "    \n",
    "    nbins, data, sig, bkg = 0, [], [], []\n",
    "    \n",
    "    for d,s,b in zip(data_hist,sig_hist,bkg_hist):\n",
    "\n",
    "        tmp_bins = d.GetXaxis().GetNbins()\n",
    "        data  += [d.GetBinContent(i) for i in range(1, tmp_bins+1)]\n",
    "        sig   += [s.GetBinContent(i) for i in range(1, tmp_bins+1)]\n",
    "        bkg   += [b.GetBinContent(i) for i in range(1, tmp_bins+1)]\n",
    "        nbins += tmp_bins\n",
    "               \n",
    "    data, sig, bkg = np.array(data), np.array(sig), np.array(bkg)\n",
    "    data[data<0], sig[sig<0], bkg[bkg<0] = 0, 0, 0\n",
    "    \n",
    "    mu_grid = np.arange(0, 0.1, 1e-6)\n",
    "    \n",
    "    b_plus_sig = np.outer(sig, mu_grid) + np.tile(bkg,(len(mu_grid),1)).T\n",
    "    \n",
    "    like_grid = np.prod(ps.pmf(np.tile(data,(len(mu_grid),1)).T, b_plus_sig), axis=0)\n",
    "    mu_best = mu_grid[np.argmax(like_grid)]\n",
    "    b_plus_sig_best = bkg + sig*mu_best\n",
    "      \n",
    "    ntoys = int(1e6)\n",
    "    bin_toys = int(1e3)\n",
    "    \n",
    "    mu_min = 0.010\n",
    "    mu_max = 0.012\n",
    "\n",
    "    for i in range(30):\n",
    "        mu = (mu_min+mu_max)/2\n",
    "        \n",
    "        b_plus_sig_mu = bkg + sig*mu\n",
    "        toys = ps.rvs(np.tile(b_plus_sig_mu,(ntoys,1)).T, size=(nbins,ntoys))\n",
    "        \n",
    "        like_num0 = np.prod(ps.pmf(toys, np.tile(bkg,(ntoys,1)).T), axis=0)\n",
    "        like_num1 = np.prod(ps.pmf(toys, np.tile(b_plus_sig_mu,(ntoys,1)).T), axis=0)\n",
    "        like_den = np.prod(ps.pmf(toys, np.tile(b_plus_sig_best,(ntoys,1)).T), axis=0)\n",
    "    \n",
    "        q_mu0 = -2 * np.log(like_num0/like_den)\n",
    "        q_mu1 = -2 * np.log(like_num1/like_den)\n",
    "        \n",
    "        like_num_obs = np.prod(ps.pmf(data, b_plus_sig_mu))\n",
    "        like_den_obs = np.prod(ps.pmf(data, b_plus_sig_best))\n",
    "        q_mu_obs = -2 * np.log(like_num_obs/like_den_obs)\n",
    "        \n",
    "        ### H0 ###\n",
    "        values_0, bins_0, _ = plt.hist(q_mu0, bins=bin_toys, density=True)\n",
    "        plt.close()\n",
    "        mask = (bins_0 > q_mu_obs)\n",
    "        p_b = sum(np.diff(bins_0[mask])*values_0[mask[:-1]])\n",
    "        \n",
    "        ### H1 ###\n",
    "        values_1, bins_1, _ = plt.hist(q_mu1, bins=bin_toys, density=True)\n",
    "        plt.close()\n",
    "        mask = (bins_1 > q_mu_obs)\n",
    "        p_mu = sum(np.diff(bins_1[mask])*values_1[mask[:-1]])\n",
    "        \n",
    "        if p_b == 0:\n",
    "            mu_max = mu\n",
    "            continue\n",
    "        \n",
    "        CL = p_mu/p_b\n",
    "        \n",
    "        if CL < 0.05: mu_max = mu\n",
    "        else: mu_min = mu\n",
    "            \n",
    "    significance = abs(sp.stats.norm.ppf(p_b))\n",
    "    \n",
    "    plt.figure(figsize=(8, 5))\n",
    "    plt.hist(q_mu0, bins=bin_toys, alpha=0.5, color='red', density=True, label='$H_0$')\n",
    "    plt.hist(q_mu1, bins=bin_toys, alpha=0.5, color='blue', density=True, label='$H_1$')\n",
    "    plt.ylim((0,0.15))\n",
    "    plt.axvline(q_mu_obs, color='#00A88F', label='$q^{obs}(\\mu)$')\n",
    "    plt.title(r'Distributions of $q(\\mu)_0$ and $q(\\mu)_1$')\n",
    "    plt.xlabel(r'$q(\\mu)$', size=16)\n",
    "    plt.legend(frameon=False)\n",
    "    plt.show()\n",
    "        \n",
    "    return mu_best, mu, CL, significance"
   ]
  },
  {
   "cell_type": "code",
   "execution_count": 36,
   "id": "a640fe0d",
   "metadata": {
    "scrolled": false
   },
   "outputs": [
    {
     "data": {
      "image/png": "[encoded data removed]",
      "text/plain": [
       "<Figure size 576x360 with 1 Axes>"
      ]
     },
     "metadata": {
      "needs_background": "light"
     },
     "output_type": "display_data"
    }
   ],
   "source": [
    "mu_hat, upper_lim, CL, sig = stat((d2,d3), (s2,s3), (b2,b3))"
   ]
  },
  {
   "cell_type": "markdown",
   "id": "97409fc2",
   "metadata": {},
   "source": [
    "<a id='8'></a>\n",
    "[Index](#index)\n",
    "### 8. Final results"
   ]
  },
  {
   "cell_type": "code",
   "execution_count": 37,
   "id": "ecefd548",
   "metadata": {},
   "outputs": [
    {
     "name": "stdout",
     "output_type": "stream",
     "text": [
      "value of μ maximizing ℒ:\t 0.0049\n",
      "inferred upper limit of μ:\t 0.0112\n",
      "CL:\t\t\t\t 0.0497\n",
      "significance:\t\t\t 1.3211\n"
     ]
    }
   ],
   "source": [
    "print('value of \\u03BC maximizing \\u2112:\\t',round(mu_hat,4))\n",
    "print('inferred upper limit of \\u03BC:\\t',round(upper_lim,4))\n",
    "print('CL:\\t\\t\\t\\t',round(CL,4))\n",
    "print('significance:\\t\\t\\t',round(sig,4))"
   ]
  },
  {
   "cell_type": "markdown",
   "id": "b83ac3b9",
   "metadata": {},
   "source": [
    "<img align='right' src='https://raw.githubusercontent.com/TommasoStentella/LCP_B-CMS_FCNC/master/Plots/inv_m01_final_histogram_3.png' alt='Drawing' style='width:450px;'/>\n",
    "<img align='left' src='https://raw.githubusercontent.com/TommasoStentella/LCP_B-CMS_FCNC/master/Plots/MET_pt_final_histogram_3.png' alt='Drawing' style='width:450px;'/>"
   ]
  }
 ],
 "metadata": {
  "kernelspec": {
   "display_name": "Python 3",
   "language": "python",
   "name": "python3"
  },
  "language_info": {
   "codemirror_mode": {
    "name": "ipython",
    "version": 3
   },
   "file_extension": ".py",
   "mimetype": "text/x-python",
   "name": "python",
   "nbconvert_exporter": "python",
   "pygments_lexer": "ipython3",
   "version": "3.9.5"
  }
 },
 "nbformat": 4,
 "nbformat_minor": 5
}
